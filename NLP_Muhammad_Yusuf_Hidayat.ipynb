{
  "nbformat": 4,
  "nbformat_minor": 0,
  "metadata": {
    "colab": {
      "provenance": [],
      "collapsed_sections": [],
      "authorship_tag": "ABX9TyN2Ph5TS9f5an3XpmGXy3Tw",
      "include_colab_link": true
    },
    "kernelspec": {
      "name": "python3",
      "display_name": "Python 3"
    },
    "language_info": {
      "name": "python"
    },
    "accelerator": "GPU"
  },
  "cells": [
    {
      "cell_type": "markdown",
      "metadata": {
        "id": "view-in-github",
        "colab_type": "text"
      },
      "source": [
        "<a href=\"https://colab.research.google.com/github/yfhkucing/latihan_dicoding/blob/master/NLP_Muhammad_Yusuf_Hidayat.ipynb\" target=\"_parent\"><img src=\"https://colab.research.google.com/assets/colab-badge.svg\" alt=\"Open In Colab\"/></a>"
      ]
    },
    {
      "cell_type": "code",
      "source": [
        "# tugas NLP Muhammad Yusuf Hidayat\n",
        "# dataset yang digunakan :  https://www.kaggle.com/datasets/asad1m9a9h6mood/news-articles"
      ],
      "metadata": {
        "id": "xCdYsJ8D0PiZ"
      },
      "execution_count": null,
      "outputs": []
    },
    {
      "cell_type": "code",
      "execution_count": 6,
      "metadata": {
        "colab": {
          "base_uri": "https://localhost:8080/"
        },
        "id": "Gpua_Kk9GOXs",
        "outputId": "77df358f-ef22-4949-f71f-274703c5950c"
      },
      "outputs": [
        {
          "output_type": "stream",
          "name": "stdout",
          "text": [
            "Looking in indexes: https://pypi.org/simple, https://us-python.pkg.dev/colab-wheels/public/simple/\n",
            "Requirement already satisfied: kaggle in /usr/local/lib/python3.7/dist-packages (1.5.12)\n",
            "Requirement already satisfied: certifi in /usr/local/lib/python3.7/dist-packages (from kaggle) (2022.9.24)\n",
            "Requirement already satisfied: python-dateutil in /usr/local/lib/python3.7/dist-packages (from kaggle) (2.8.2)\n",
            "Requirement already satisfied: six>=1.10 in /usr/local/lib/python3.7/dist-packages (from kaggle) (1.15.0)\n",
            "Requirement already satisfied: tqdm in /usr/local/lib/python3.7/dist-packages (from kaggle) (4.64.1)\n",
            "Requirement already satisfied: requests in /usr/local/lib/python3.7/dist-packages (from kaggle) (2.23.0)\n",
            "Requirement already satisfied: urllib3 in /usr/local/lib/python3.7/dist-packages (from kaggle) (1.24.3)\n",
            "Requirement already satisfied: python-slugify in /usr/local/lib/python3.7/dist-packages (from kaggle) (6.1.2)\n",
            "Requirement already satisfied: text-unidecode>=1.3 in /usr/local/lib/python3.7/dist-packages (from python-slugify->kaggle) (1.3)\n",
            "Requirement already satisfied: idna<3,>=2.5 in /usr/local/lib/python3.7/dist-packages (from requests->kaggle) (2.10)\n",
            "Requirement already satisfied: chardet<4,>=3.0.2 in /usr/local/lib/python3.7/dist-packages (from requests->kaggle) (3.0.4)\n",
            "mkdir: cannot create directory ‘/root/.kaggle’: File exists\n"
          ]
        }
      ],
      "source": [
        "!pip install kaggle\n",
        "! mkdir ~/.kaggle"
      ]
    },
    {
      "cell_type": "code",
      "source": [
        "! cp kaggle.json ~/.kaggle/\n",
        "! chmod 600 ~/.kaggle/kaggle.json"
      ],
      "metadata": {
        "id": "BNc7ANAuGWk0"
      },
      "execution_count": 7,
      "outputs": []
    },
    {
      "cell_type": "code",
      "source": [
        "! kaggle datasets download asad1m9a9h6mood/news-articles"
      ],
      "metadata": {
        "colab": {
          "base_uri": "https://localhost:8080/"
        },
        "id": "Q8EwZYZoGgU0",
        "outputId": "e4bfc8a8-ad30-4544-fa55-25c8abb34f9a"
      },
      "execution_count": 8,
      "outputs": [
        {
          "output_type": "stream",
          "name": "stdout",
          "text": [
            "Downloading news-articles.zip to /content\n",
            "\r  0% 0.00/1.73M [00:00<?, ?B/s]\n",
            "\r100% 1.73M/1.73M [00:00<00:00, 169MB/s]\n"
          ]
        }
      ]
    },
    {
      "cell_type": "code",
      "source": [
        "! unzip /content/news-articles.zip"
      ],
      "metadata": {
        "colab": {
          "base_uri": "https://localhost:8080/"
        },
        "id": "IHKW2APfGpL3",
        "outputId": "7402adaa-91c4-47ac-e84c-9f4ea1d56d26"
      },
      "execution_count": 9,
      "outputs": [
        {
          "output_type": "stream",
          "name": "stdout",
          "text": [
            "Archive:  /content/news-articles.zip\n",
            "  inflating: Articles.csv            \n"
          ]
        }
      ]
    },
    {
      "cell_type": "code",
      "source": [
        "#dataframe\n",
        "import pandas as pd\n",
        "df = pd.read_csv(\"/content/Articles.csv\", encoding='cp1252')\n",
        "df.pop('Date')\n",
        "df.head()"
      ],
      "metadata": {
        "colab": {
          "base_uri": "https://localhost:8080/",
          "height": 206
        },
        "id": "pB-LrSrnGtBx",
        "outputId": "cd688d30-ac60-4168-90d2-c383629e62cf"
      },
      "execution_count": 15,
      "outputs": [
        {
          "output_type": "execute_result",
          "data": {
            "text/plain": [
              "                                             Article  \\\n",
              "0  KARACHI: The Sindh government has decided to b...   \n",
              "1  HONG KONG: Asian markets started 2015 on an up...   \n",
              "2  HONG KONG:  Hong Kong shares opened 0.66 perce...   \n",
              "3  HONG KONG: Asian markets tumbled Tuesday follo...   \n",
              "4  NEW YORK: US oil prices Monday slipped below $...   \n",
              "\n",
              "                                             Heading  NewsType  \n",
              "0  sindh govt decides to cut public transport far...  business  \n",
              "1                    asia stocks up in new year trad  business  \n",
              "2           hong kong stocks open 0.66 percent lower  business  \n",
              "3             asian stocks sink euro near nine year   business  \n",
              "4                 us oil prices slip below 50 a barr  business  "
            ],
            "text/html": [
              "\n",
              "  <div id=\"df-36e92b04-533c-4081-8873-e0c6bf3867b6\">\n",
              "    <div class=\"colab-df-container\">\n",
              "      <div>\n",
              "<style scoped>\n",
              "    .dataframe tbody tr th:only-of-type {\n",
              "        vertical-align: middle;\n",
              "    }\n",
              "\n",
              "    .dataframe tbody tr th {\n",
              "        vertical-align: top;\n",
              "    }\n",
              "\n",
              "    .dataframe thead th {\n",
              "        text-align: right;\n",
              "    }\n",
              "</style>\n",
              "<table border=\"1\" class=\"dataframe\">\n",
              "  <thead>\n",
              "    <tr style=\"text-align: right;\">\n",
              "      <th></th>\n",
              "      <th>Article</th>\n",
              "      <th>Heading</th>\n",
              "      <th>NewsType</th>\n",
              "    </tr>\n",
              "  </thead>\n",
              "  <tbody>\n",
              "    <tr>\n",
              "      <th>0</th>\n",
              "      <td>KARACHI: The Sindh government has decided to b...</td>\n",
              "      <td>sindh govt decides to cut public transport far...</td>\n",
              "      <td>business</td>\n",
              "    </tr>\n",
              "    <tr>\n",
              "      <th>1</th>\n",
              "      <td>HONG KONG: Asian markets started 2015 on an up...</td>\n",
              "      <td>asia stocks up in new year trad</td>\n",
              "      <td>business</td>\n",
              "    </tr>\n",
              "    <tr>\n",
              "      <th>2</th>\n",
              "      <td>HONG KONG:  Hong Kong shares opened 0.66 perce...</td>\n",
              "      <td>hong kong stocks open 0.66 percent lower</td>\n",
              "      <td>business</td>\n",
              "    </tr>\n",
              "    <tr>\n",
              "      <th>3</th>\n",
              "      <td>HONG KONG: Asian markets tumbled Tuesday follo...</td>\n",
              "      <td>asian stocks sink euro near nine year</td>\n",
              "      <td>business</td>\n",
              "    </tr>\n",
              "    <tr>\n",
              "      <th>4</th>\n",
              "      <td>NEW YORK: US oil prices Monday slipped below $...</td>\n",
              "      <td>us oil prices slip below 50 a barr</td>\n",
              "      <td>business</td>\n",
              "    </tr>\n",
              "  </tbody>\n",
              "</table>\n",
              "</div>\n",
              "      <button class=\"colab-df-convert\" onclick=\"convertToInteractive('df-36e92b04-533c-4081-8873-e0c6bf3867b6')\"\n",
              "              title=\"Convert this dataframe to an interactive table.\"\n",
              "              style=\"display:none;\">\n",
              "        \n",
              "  <svg xmlns=\"http://www.w3.org/2000/svg\" height=\"24px\"viewBox=\"0 0 24 24\"\n",
              "       width=\"24px\">\n",
              "    <path d=\"M0 0h24v24H0V0z\" fill=\"none\"/>\n",
              "    <path d=\"M18.56 5.44l.94 2.06.94-2.06 2.06-.94-2.06-.94-.94-2.06-.94 2.06-2.06.94zm-11 1L8.5 8.5l.94-2.06 2.06-.94-2.06-.94L8.5 2.5l-.94 2.06-2.06.94zm10 10l.94 2.06.94-2.06 2.06-.94-2.06-.94-.94-2.06-.94 2.06-2.06.94z\"/><path d=\"M17.41 7.96l-1.37-1.37c-.4-.4-.92-.59-1.43-.59-.52 0-1.04.2-1.43.59L10.3 9.45l-7.72 7.72c-.78.78-.78 2.05 0 2.83L4 21.41c.39.39.9.59 1.41.59.51 0 1.02-.2 1.41-.59l7.78-7.78 2.81-2.81c.8-.78.8-2.07 0-2.86zM5.41 20L4 18.59l7.72-7.72 1.47 1.35L5.41 20z\"/>\n",
              "  </svg>\n",
              "      </button>\n",
              "      \n",
              "  <style>\n",
              "    .colab-df-container {\n",
              "      display:flex;\n",
              "      flex-wrap:wrap;\n",
              "      gap: 12px;\n",
              "    }\n",
              "\n",
              "    .colab-df-convert {\n",
              "      background-color: #E8F0FE;\n",
              "      border: none;\n",
              "      border-radius: 50%;\n",
              "      cursor: pointer;\n",
              "      display: none;\n",
              "      fill: #1967D2;\n",
              "      height: 32px;\n",
              "      padding: 0 0 0 0;\n",
              "      width: 32px;\n",
              "    }\n",
              "\n",
              "    .colab-df-convert:hover {\n",
              "      background-color: #E2EBFA;\n",
              "      box-shadow: 0px 1px 2px rgba(60, 64, 67, 0.3), 0px 1px 3px 1px rgba(60, 64, 67, 0.15);\n",
              "      fill: #174EA6;\n",
              "    }\n",
              "\n",
              "    [theme=dark] .colab-df-convert {\n",
              "      background-color: #3B4455;\n",
              "      fill: #D2E3FC;\n",
              "    }\n",
              "\n",
              "    [theme=dark] .colab-df-convert:hover {\n",
              "      background-color: #434B5C;\n",
              "      box-shadow: 0px 1px 3px 1px rgba(0, 0, 0, 0.15);\n",
              "      filter: drop-shadow(0px 1px 2px rgba(0, 0, 0, 0.3));\n",
              "      fill: #FFFFFF;\n",
              "    }\n",
              "  </style>\n",
              "\n",
              "      <script>\n",
              "        const buttonEl =\n",
              "          document.querySelector('#df-36e92b04-533c-4081-8873-e0c6bf3867b6 button.colab-df-convert');\n",
              "        buttonEl.style.display =\n",
              "          google.colab.kernel.accessAllowed ? 'block' : 'none';\n",
              "\n",
              "        async function convertToInteractive(key) {\n",
              "          const element = document.querySelector('#df-36e92b04-533c-4081-8873-e0c6bf3867b6');\n",
              "          const dataTable =\n",
              "            await google.colab.kernel.invokeFunction('convertToInteractive',\n",
              "                                                     [key], {});\n",
              "          if (!dataTable) return;\n",
              "\n",
              "          const docLinkHtml = 'Like what you see? Visit the ' +\n",
              "            '<a target=\"_blank\" href=https://colab.research.google.com/notebooks/data_table.ipynb>data table notebook</a>'\n",
              "            + ' to learn more about interactive tables.';\n",
              "          element.innerHTML = '';\n",
              "          dataTable['output_type'] = 'display_data';\n",
              "          await google.colab.output.renderOutput(dataTable, element);\n",
              "          const docLink = document.createElement('div');\n",
              "          docLink.innerHTML = docLinkHtml;\n",
              "          element.appendChild(docLink);\n",
              "        }\n",
              "      </script>\n",
              "    </div>\n",
              "  </div>\n",
              "  "
            ]
          },
          "metadata": {},
          "execution_count": 15
        }
      ]
    },
    {
      "cell_type": "code",
      "source": [
        "# one hot encoding untuk label yang akan digunakan\n",
        "df2 = pd.get_dummies(df['NewsType'])\n",
        "df = df.join(df2)\n",
        "df.head()"
      ],
      "metadata": {
        "colab": {
          "base_uri": "https://localhost:8080/",
          "height": 337
        },
        "id": "vny9zMX6n0nt",
        "outputId": "c68bd139-6bd5-4c21-c737-893bb228dde6"
      },
      "execution_count": 96,
      "outputs": [
        {
          "output_type": "execute_result",
          "data": {
            "text/plain": [
              "                                             Article  \\\n",
              "0  KARACHI: The Sindh government has decided to b...   \n",
              "1  HONG KONG: Asian markets started 2015 on an up...   \n",
              "2  HONG KONG:  Hong Kong shares opened 0.66 perce...   \n",
              "3  HONG KONG: Asian markets tumbled Tuesday follo...   \n",
              "4  NEW YORK: US oil prices Monday slipped below $...   \n",
              "\n",
              "                                             Heading  NewsType  business  \\\n",
              "0  sindh govt decides to cut public transport far...  business         1   \n",
              "1                    asia stocks up in new year trad  business         1   \n",
              "2           hong kong stocks open 0.66 percent lower  business         1   \n",
              "3             asian stocks sink euro near nine year   business         1   \n",
              "4                 us oil prices slip below 50 a barr  business         1   \n",
              "\n",
              "   sports  \n",
              "0       0  \n",
              "1       0  \n",
              "2       0  \n",
              "3       0  \n",
              "4       0  "
            ],
            "text/html": [
              "\n",
              "  <div id=\"df-f3b5d182-b86d-4593-be91-bc2fbc56d9cf\">\n",
              "    <div class=\"colab-df-container\">\n",
              "      <div>\n",
              "<style scoped>\n",
              "    .dataframe tbody tr th:only-of-type {\n",
              "        vertical-align: middle;\n",
              "    }\n",
              "\n",
              "    .dataframe tbody tr th {\n",
              "        vertical-align: top;\n",
              "    }\n",
              "\n",
              "    .dataframe thead th {\n",
              "        text-align: right;\n",
              "    }\n",
              "</style>\n",
              "<table border=\"1\" class=\"dataframe\">\n",
              "  <thead>\n",
              "    <tr style=\"text-align: right;\">\n",
              "      <th></th>\n",
              "      <th>Article</th>\n",
              "      <th>Heading</th>\n",
              "      <th>NewsType</th>\n",
              "      <th>business</th>\n",
              "      <th>sports</th>\n",
              "    </tr>\n",
              "  </thead>\n",
              "  <tbody>\n",
              "    <tr>\n",
              "      <th>0</th>\n",
              "      <td>KARACHI: The Sindh government has decided to b...</td>\n",
              "      <td>sindh govt decides to cut public transport far...</td>\n",
              "      <td>business</td>\n",
              "      <td>1</td>\n",
              "      <td>0</td>\n",
              "    </tr>\n",
              "    <tr>\n",
              "      <th>1</th>\n",
              "      <td>HONG KONG: Asian markets started 2015 on an up...</td>\n",
              "      <td>asia stocks up in new year trad</td>\n",
              "      <td>business</td>\n",
              "      <td>1</td>\n",
              "      <td>0</td>\n",
              "    </tr>\n",
              "    <tr>\n",
              "      <th>2</th>\n",
              "      <td>HONG KONG:  Hong Kong shares opened 0.66 perce...</td>\n",
              "      <td>hong kong stocks open 0.66 percent lower</td>\n",
              "      <td>business</td>\n",
              "      <td>1</td>\n",
              "      <td>0</td>\n",
              "    </tr>\n",
              "    <tr>\n",
              "      <th>3</th>\n",
              "      <td>HONG KONG: Asian markets tumbled Tuesday follo...</td>\n",
              "      <td>asian stocks sink euro near nine year</td>\n",
              "      <td>business</td>\n",
              "      <td>1</td>\n",
              "      <td>0</td>\n",
              "    </tr>\n",
              "    <tr>\n",
              "      <th>4</th>\n",
              "      <td>NEW YORK: US oil prices Monday slipped below $...</td>\n",
              "      <td>us oil prices slip below 50 a barr</td>\n",
              "      <td>business</td>\n",
              "      <td>1</td>\n",
              "      <td>0</td>\n",
              "    </tr>\n",
              "  </tbody>\n",
              "</table>\n",
              "</div>\n",
              "      <button class=\"colab-df-convert\" onclick=\"convertToInteractive('df-f3b5d182-b86d-4593-be91-bc2fbc56d9cf')\"\n",
              "              title=\"Convert this dataframe to an interactive table.\"\n",
              "              style=\"display:none;\">\n",
              "        \n",
              "  <svg xmlns=\"http://www.w3.org/2000/svg\" height=\"24px\"viewBox=\"0 0 24 24\"\n",
              "       width=\"24px\">\n",
              "    <path d=\"M0 0h24v24H0V0z\" fill=\"none\"/>\n",
              "    <path d=\"M18.56 5.44l.94 2.06.94-2.06 2.06-.94-2.06-.94-.94-2.06-.94 2.06-2.06.94zm-11 1L8.5 8.5l.94-2.06 2.06-.94-2.06-.94L8.5 2.5l-.94 2.06-2.06.94zm10 10l.94 2.06.94-2.06 2.06-.94-2.06-.94-.94-2.06-.94 2.06-2.06.94z\"/><path d=\"M17.41 7.96l-1.37-1.37c-.4-.4-.92-.59-1.43-.59-.52 0-1.04.2-1.43.59L10.3 9.45l-7.72 7.72c-.78.78-.78 2.05 0 2.83L4 21.41c.39.39.9.59 1.41.59.51 0 1.02-.2 1.41-.59l7.78-7.78 2.81-2.81c.8-.78.8-2.07 0-2.86zM5.41 20L4 18.59l7.72-7.72 1.47 1.35L5.41 20z\"/>\n",
              "  </svg>\n",
              "      </button>\n",
              "      \n",
              "  <style>\n",
              "    .colab-df-container {\n",
              "      display:flex;\n",
              "      flex-wrap:wrap;\n",
              "      gap: 12px;\n",
              "    }\n",
              "\n",
              "    .colab-df-convert {\n",
              "      background-color: #E8F0FE;\n",
              "      border: none;\n",
              "      border-radius: 50%;\n",
              "      cursor: pointer;\n",
              "      display: none;\n",
              "      fill: #1967D2;\n",
              "      height: 32px;\n",
              "      padding: 0 0 0 0;\n",
              "      width: 32px;\n",
              "    }\n",
              "\n",
              "    .colab-df-convert:hover {\n",
              "      background-color: #E2EBFA;\n",
              "      box-shadow: 0px 1px 2px rgba(60, 64, 67, 0.3), 0px 1px 3px 1px rgba(60, 64, 67, 0.15);\n",
              "      fill: #174EA6;\n",
              "    }\n",
              "\n",
              "    [theme=dark] .colab-df-convert {\n",
              "      background-color: #3B4455;\n",
              "      fill: #D2E3FC;\n",
              "    }\n",
              "\n",
              "    [theme=dark] .colab-df-convert:hover {\n",
              "      background-color: #434B5C;\n",
              "      box-shadow: 0px 1px 3px 1px rgba(0, 0, 0, 0.15);\n",
              "      filter: drop-shadow(0px 1px 2px rgba(0, 0, 0, 0.3));\n",
              "      fill: #FFFFFF;\n",
              "    }\n",
              "  </style>\n",
              "\n",
              "      <script>\n",
              "        const buttonEl =\n",
              "          document.querySelector('#df-f3b5d182-b86d-4593-be91-bc2fbc56d9cf button.colab-df-convert');\n",
              "        buttonEl.style.display =\n",
              "          google.colab.kernel.accessAllowed ? 'block' : 'none';\n",
              "\n",
              "        async function convertToInteractive(key) {\n",
              "          const element = document.querySelector('#df-f3b5d182-b86d-4593-be91-bc2fbc56d9cf');\n",
              "          const dataTable =\n",
              "            await google.colab.kernel.invokeFunction('convertToInteractive',\n",
              "                                                     [key], {});\n",
              "          if (!dataTable) return;\n",
              "\n",
              "          const docLinkHtml = 'Like what you see? Visit the ' +\n",
              "            '<a target=\"_blank\" href=https://colab.research.google.com/notebooks/data_table.ipynb>data table notebook</a>'\n",
              "            + ' to learn more about interactive tables.';\n",
              "          element.innerHTML = '';\n",
              "          dataTable['output_type'] = 'display_data';\n",
              "          await google.colab.output.renderOutput(dataTable, element);\n",
              "          const docLink = document.createElement('div');\n",
              "          docLink.innerHTML = docLinkHtml;\n",
              "          element.appendChild(docLink);\n",
              "        }\n",
              "      </script>\n",
              "    </div>\n",
              "  </div>\n",
              "  "
            ]
          },
          "metadata": {},
          "execution_count": 96
        }
      ]
    },
    {
      "cell_type": "code",
      "source": [
        "#mengubah data menjadi array berisikan kalimat\n",
        "df['Heading']=df['Heading'].astype(str)\n",
        "\n",
        "heading = df['Heading'].tolist() \n"
      ],
      "metadata": {
        "id": "7Jsw1oJuI8W1"
      },
      "execution_count": 66,
      "outputs": []
    },
    {
      "cell_type": "code",
      "source": [
        "#mengubah label menjadi array \n",
        "label = df[['business', 'sports']].values"
      ],
      "metadata": {
        "id": "J3BGeGPhoyc-"
      },
      "execution_count": 67,
      "outputs": []
    },
    {
      "cell_type": "code",
      "source": [
        "len(label)"
      ],
      "metadata": {
        "colab": {
          "base_uri": "https://localhost:8080/"
        },
        "id": "1fdWrR3mtk4v",
        "outputId": "b86ca205-6e1a-4699-ece1-6c189a0b0acd"
      },
      "execution_count": 68,
      "outputs": [
        {
          "output_type": "execute_result",
          "data": {
            "text/plain": [
              "2692"
            ]
          },
          "metadata": {},
          "execution_count": 68
        }
      ]
    },
    {
      "cell_type": "code",
      "source": [
        "label"
      ],
      "metadata": {
        "colab": {
          "base_uri": "https://localhost:8080/"
        },
        "id": "Z7Ky9hBZo8uT",
        "outputId": "f55e6b3b-f865-45a8-eef8-82b09665a3f7"
      },
      "execution_count": 21,
      "outputs": [
        {
          "output_type": "execute_result",
          "data": {
            "text/plain": [
              "array([[1, 0],\n",
              "       [1, 0],\n",
              "       [1, 0],\n",
              "       ...,\n",
              "       [1, 0],\n",
              "       [1, 0],\n",
              "       [1, 0]], dtype=uint8)"
            ]
          },
          "metadata": {},
          "execution_count": 21
        }
      ]
    },
    {
      "cell_type": "code",
      "source": [
        "heading[3]"
      ],
      "metadata": {
        "id": "pe4gQlbrJryu",
        "colab": {
          "base_uri": "https://localhost:8080/",
          "height": 35
        },
        "outputId": "4b84a90d-aaf1-43aa-a2d3-399bce93cf79"
      },
      "execution_count": 22,
      "outputs": [
        {
          "output_type": "execute_result",
          "data": {
            "text/plain": [
              "'asian stocks sink euro near nine year '"
            ],
            "application/vnd.google.colaboratory.intrinsic+json": {
              "type": "string"
            }
          },
          "metadata": {},
          "execution_count": 22
        }
      ]
    },
    {
      "cell_type": "code",
      "source": [
        "#library yang diimpor untuk membuat model\n",
        "import tensorflow as tf\n",
        "from tensorflow.keras.preprocessing.text import Tokenizer\n",
        "from tensorflow.keras.preprocessing.sequence import pad_sequences"
      ],
      "metadata": {
        "id": "rEbW0_YzG5Pp"
      },
      "execution_count": 23,
      "outputs": []
    },
    {
      "cell_type": "code",
      "source": [
        "#variabel yang akan digunakan untuk tokenisasi, embedding, dan training\n",
        "\n",
        "vocab_size = 3189\n",
        "embedding_dim = 16\n",
        "max_length = 100\n",
        "trunc_type='post'\n",
        "padding_type='post'\n",
        "oov_tok = \"<OOV>\"\n",
        "training_size = 2074 #training size 80% dari total data\n",
        "num_epochs = 30"
      ],
      "metadata": {
        "id": "B7vrvq9OIDZV"
      },
      "execution_count": 69,
      "outputs": []
    },
    {
      "cell_type": "code",
      "source": [
        "#train test splitting\n",
        "import numpy as np\n",
        "training_sentences = np.array(heading[0:training_size])\n",
        "testing_sentences = np.array(heading[training_size:])\n",
        "training_labels = np.array(label[0:training_size])\n",
        "testing_labels = np.array(label[training_size:])"
      ],
      "metadata": {
        "id": "MRSlT_JfInpE"
      },
      "execution_count": 70,
      "outputs": []
    },
    {
      "cell_type": "code",
      "source": [
        "#tokenisasi dan padding \n",
        "tokenizer = Tokenizer(oov_token=oov_tok)\n",
        "tokenizer.fit_on_texts(training_sentences)\n",
        "\n",
        "word_index = tokenizer.word_index\n",
        "\n",
        "training_sequences = tokenizer.texts_to_sequences(training_sentences)\n",
        "training_padded = pad_sequences(training_sequences, padding=padding_type, truncating=trunc_type)\n",
        "\n",
        "testing_sequences = tokenizer.texts_to_sequences(testing_sentences)\n",
        "testing_padded = pad_sequences(testing_sequences, padding=padding_type, truncating=trunc_type)"
      ],
      "metadata": {
        "id": "CSj3TYuwKVG2"
      },
      "execution_count": 86,
      "outputs": []
    },
    {
      "cell_type": "code",
      "source": [
        "len(word_index)"
      ],
      "metadata": {
        "id": "467zJx9KKf-S",
        "colab": {
          "base_uri": "https://localhost:8080/"
        },
        "outputId": "ed216238-2b45-460e-a65c-3c892061253b"
      },
      "execution_count": 72,
      "outputs": [
        {
          "output_type": "execute_result",
          "data": {
            "text/plain": [
              "4145"
            ]
          },
          "metadata": {},
          "execution_count": 72
        }
      ]
    },
    {
      "cell_type": "code",
      "source": [
        "#model yang dipakai\n",
        "model = tf.keras.Sequential([\n",
        "    tf.keras.layers.Embedding(vocab_size, embedding_dim),\n",
        "    tf.keras.layers.LSTM(64),\n",
        "    tf.keras.layers.Dense(128, activation='relu'),\n",
        "    tf.keras.layers.Dropout(0.4),\n",
        "    tf.keras.layers.Dense(256, activation='relu'),\n",
        "    tf.keras.layers.Dropout(0.4),\n",
        "    tf.keras.layers.Dense(512, activation='relu'),\n",
        "    tf.keras.layers.Dropout(0.4),\n",
        "    tf.keras.layers.Dense(2, activation='softmax')\n",
        "])"
      ],
      "metadata": {
        "id": "ipSKXBVNp-Ly"
      },
      "execution_count": 73,
      "outputs": []
    },
    {
      "cell_type": "code",
      "source": [
        "model.compile(loss='binary_crossentropy',optimizer='adam',metrics=['accuracy'])"
      ],
      "metadata": {
        "id": "Hd1BQ9ZxK3dC"
      },
      "execution_count": 74,
      "outputs": []
    },
    {
      "cell_type": "code",
      "source": [
        "history = model.fit(training_padded, training_labels, epochs=num_epochs, validation_data=(testing_padded, testing_labels), verbose=2)"
      ],
      "metadata": {
        "id": "i_Z4WZwUK8Ef",
        "colab": {
          "base_uri": "https://localhost:8080/"
        },
        "outputId": "05ace64b-06e8-440e-aa98-20774c908de4"
      },
      "execution_count": 75,
      "outputs": [
        {
          "output_type": "stream",
          "name": "stdout",
          "text": [
            "Epoch 1/30\n",
            "65/65 - 3s - loss: 0.6489 - accuracy: 0.5603 - val_loss: 0.7229 - val_accuracy: 0.8252 - 3s/epoch - 40ms/step\n",
            "Epoch 2/30\n",
            "65/65 - 0s - loss: 0.1117 - accuracy: 0.9634 - val_loss: 0.4306 - val_accuracy: 0.8964 - 390ms/epoch - 6ms/step\n",
            "Epoch 3/30\n",
            "65/65 - 0s - loss: 0.0204 - accuracy: 0.9942 - val_loss: 0.2992 - val_accuracy: 0.9223 - 376ms/epoch - 6ms/step\n",
            "Epoch 4/30\n",
            "65/65 - 0s - loss: 0.0044 - accuracy: 0.9981 - val_loss: 0.6012 - val_accuracy: 0.9256 - 408ms/epoch - 6ms/step\n",
            "Epoch 5/30\n",
            "65/65 - 0s - loss: 0.0033 - accuracy: 0.9990 - val_loss: 0.6248 - val_accuracy: 0.9272 - 373ms/epoch - 6ms/step\n",
            "Epoch 6/30\n",
            "65/65 - 0s - loss: 6.0401e-04 - accuracy: 1.0000 - val_loss: 1.0103 - val_accuracy: 0.9239 - 391ms/epoch - 6ms/step\n",
            "Epoch 7/30\n",
            "65/65 - 0s - loss: 8.1929e-05 - accuracy: 1.0000 - val_loss: 1.1410 - val_accuracy: 0.9256 - 376ms/epoch - 6ms/step\n",
            "Epoch 8/30\n",
            "65/65 - 0s - loss: 1.5775e-05 - accuracy: 1.0000 - val_loss: 1.1823 - val_accuracy: 0.9239 - 394ms/epoch - 6ms/step\n",
            "Epoch 9/30\n",
            "65/65 - 0s - loss: 1.4268e-05 - accuracy: 1.0000 - val_loss: 1.2081 - val_accuracy: 0.9239 - 377ms/epoch - 6ms/step\n",
            "Epoch 10/30\n",
            "65/65 - 0s - loss: 3.0387e-05 - accuracy: 1.0000 - val_loss: 1.2459 - val_accuracy: 0.9239 - 383ms/epoch - 6ms/step\n",
            "Epoch 11/30\n",
            "65/65 - 0s - loss: 1.1620e-05 - accuracy: 1.0000 - val_loss: 1.2741 - val_accuracy: 0.9239 - 406ms/epoch - 6ms/step\n",
            "Epoch 12/30\n",
            "65/65 - 0s - loss: 8.8422e-06 - accuracy: 1.0000 - val_loss: 1.3168 - val_accuracy: 0.9239 - 392ms/epoch - 6ms/step\n",
            "Epoch 13/30\n",
            "65/65 - 0s - loss: 6.5517e-06 - accuracy: 1.0000 - val_loss: 1.3352 - val_accuracy: 0.9239 - 391ms/epoch - 6ms/step\n",
            "Epoch 14/30\n",
            "65/65 - 0s - loss: 3.8452e-06 - accuracy: 1.0000 - val_loss: 1.3682 - val_accuracy: 0.9239 - 405ms/epoch - 6ms/step\n",
            "Epoch 15/30\n",
            "65/65 - 0s - loss: 3.6652e-06 - accuracy: 1.0000 - val_loss: 1.3824 - val_accuracy: 0.9239 - 386ms/epoch - 6ms/step\n",
            "Epoch 16/30\n",
            "65/65 - 0s - loss: 5.1006e-06 - accuracy: 1.0000 - val_loss: 1.4080 - val_accuracy: 0.9239 - 397ms/epoch - 6ms/step\n",
            "Epoch 17/30\n",
            "65/65 - 0s - loss: 5.0811e-06 - accuracy: 1.0000 - val_loss: 1.4255 - val_accuracy: 0.9239 - 383ms/epoch - 6ms/step\n",
            "Epoch 18/30\n",
            "65/65 - 0s - loss: 3.9507e-06 - accuracy: 1.0000 - val_loss: 1.4519 - val_accuracy: 0.9239 - 372ms/epoch - 6ms/step\n",
            "Epoch 19/30\n",
            "65/65 - 0s - loss: 1.5804e-06 - accuracy: 1.0000 - val_loss: 1.4677 - val_accuracy: 0.9239 - 384ms/epoch - 6ms/step\n",
            "Epoch 20/30\n",
            "65/65 - 0s - loss: 2.0966e-06 - accuracy: 1.0000 - val_loss: 1.4871 - val_accuracy: 0.9239 - 397ms/epoch - 6ms/step\n",
            "Epoch 21/30\n",
            "65/65 - 0s - loss: 2.2992e-06 - accuracy: 1.0000 - val_loss: 1.5073 - val_accuracy: 0.9239 - 376ms/epoch - 6ms/step\n",
            "Epoch 22/30\n",
            "65/65 - 0s - loss: 1.1665e-06 - accuracy: 1.0000 - val_loss: 1.5180 - val_accuracy: 0.9239 - 400ms/epoch - 6ms/step\n",
            "Epoch 23/30\n",
            "65/65 - 0s - loss: 1.1248e-06 - accuracy: 1.0000 - val_loss: 1.5306 - val_accuracy: 0.9239 - 404ms/epoch - 6ms/step\n",
            "Epoch 24/30\n",
            "65/65 - 0s - loss: 8.7472e-07 - accuracy: 1.0000 - val_loss: 1.5391 - val_accuracy: 0.9239 - 388ms/epoch - 6ms/step\n",
            "Epoch 25/30\n",
            "65/65 - 0s - loss: 2.0314e-06 - accuracy: 1.0000 - val_loss: 1.5531 - val_accuracy: 0.9239 - 410ms/epoch - 6ms/step\n",
            "Epoch 26/30\n",
            "65/65 - 0s - loss: 5.6801e-07 - accuracy: 1.0000 - val_loss: 1.5619 - val_accuracy: 0.9239 - 380ms/epoch - 6ms/step\n",
            "Epoch 27/30\n",
            "65/65 - 0s - loss: 6.4954e-07 - accuracy: 1.0000 - val_loss: 1.5693 - val_accuracy: 0.9239 - 394ms/epoch - 6ms/step\n",
            "Epoch 28/30\n",
            "65/65 - 0s - loss: 9.8408e-07 - accuracy: 1.0000 - val_loss: 1.5824 - val_accuracy: 0.9239 - 378ms/epoch - 6ms/step\n",
            "Epoch 29/30\n",
            "65/65 - 0s - loss: 6.0564e-07 - accuracy: 1.0000 - val_loss: 1.5908 - val_accuracy: 0.9239 - 406ms/epoch - 6ms/step\n",
            "Epoch 30/30\n",
            "65/65 - 0s - loss: 9.9672e-07 - accuracy: 1.0000 - val_loss: 1.6053 - val_accuracy: 0.9239 - 381ms/epoch - 6ms/step\n"
          ]
        }
      ]
    },
    {
      "cell_type": "code",
      "source": [
        "#accuracy\n",
        "\n",
        "import matplotlib.pyplot as plt\n",
        "plt.plot(history.history['accuracy'])\n",
        "plt.plot(history.history['val_accuracy'])\n",
        "plt.title('Akurasi Model')\n",
        "plt.ylabel('accuracy')\n",
        "plt.xlabel('epoch')\n",
        "plt.legend(['train', 'test'], loc='upper left')\n",
        "plt.show()"
      ],
      "metadata": {
        "colab": {
          "base_uri": "https://localhost:8080/",
          "height": 295
        },
        "id": "8lNZG4IAuCTQ",
        "outputId": "0d02c6b1-c9c2-4e07-f3ed-a101450a8203"
      },
      "execution_count": 76,
      "outputs": [
        {
          "output_type": "display_data",
          "data": {
            "text/plain": [
              "<Figure size 432x288 with 1 Axes>"
            ],
            "image/png": "[encoded data removed]"
          },
          "metadata": {
            "needs_background": "light"
          }
        }
      ]
    },
    {
      "cell_type": "code",
      "source": [
        "#test model yang sudah ditraining\n",
        "test_sentence = [ \"Is the small business surge in the US sustainable?\",\n",
        "    \"Indian sports news wrap, October 10: Chennai Kaalpandhu League begins\"]\n",
        "sequence = tokenizer.texts_to_sequences(test_sentence)\n",
        "sequence_padded = pad_sequences(sequence, padding=padding_type, truncating=trunc_type)"
      ],
      "metadata": {
        "id": "IjF251n_uOzu"
      },
      "execution_count": 102,
      "outputs": []
    },
    {
      "cell_type": "code",
      "source": [
        "model.predict(sequence_padded)"
      ],
      "metadata": {
        "colab": {
          "base_uri": "https://localhost:8080/"
        },
        "id": "EFnNOqOrws1n",
        "outputId": "753e14c9-8a6d-4cc1-b534-55e36247791d"
      },
      "execution_count": 103,
      "outputs": [
        {
          "output_type": "execute_result",
          "data": {
            "text/plain": [
              "array([[9.9990964e-01, 9.0337569e-05],\n",
              "       [1.8069457e-05, 9.9998188e-01]], dtype=float32)"
            ]
          },
          "metadata": {},
          "execution_count": 103
        }
      ]
    },
    {
      "cell_type": "code",
      "source": [],
      "metadata": {
        "id": "UtfYTr42y0YS"
      },
      "execution_count": null,
      "outputs": []
    }
  ]
}